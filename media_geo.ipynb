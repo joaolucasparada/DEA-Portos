{
  "nbformat": 4,
  "nbformat_minor": 0,
  "metadata": {
    "colab": {
      "provenance": []
    },
    "kernelspec": {
      "name": "python3",
      "display_name": "Python 3"
    },
    "language_info": {
      "name": "python"
    }
  },
  "cells": [
    {
      "cell_type": "code",
      "execution_count": 28,
      "metadata": {
        "id": "LTJhErOEDa7p"
      },
      "outputs": [],
      "source": [
        "import matplotlib.pyplot as plt\n",
        "import numpy as np"
      ]
    },
    {
      "cell_type": "code",
      "source": [
        "num = [50, 32, 27, 10, 90, 85]\n",
        "data = np.array(num)"
      ],
      "metadata": {
        "id": "34c1NufmDk_2"
      },
      "execution_count": 29,
      "outputs": []
    },
    {
      "cell_type": "code",
      "source": [
        "data"
      ],
      "metadata": {
        "colab": {
          "base_uri": "https://localhost:8080/"
        },
        "id": "7D6rm15EDlhU",
        "outputId": "2db50234-0526-4d74-a4f7-7d4451f84604"
      },
      "execution_count": 30,
      "outputs": [
        {
          "output_type": "execute_result",
          "data": {
            "text/plain": [
              "array([50, 32, 27, 10, 90, 85])"
            ]
          },
          "metadata": {},
          "execution_count": 30
        }
      ]
    },
    {
      "cell_type": "code",
      "source": [
        "# multiplicação entre os termos do array\n",
        "prod = np.prod(data)\n",
        "prod"
      ],
      "metadata": {
        "colab": {
          "base_uri": "https://localhost:8080/"
        },
        "id": "SzMRwGOaDlm6",
        "outputId": "2602380c-19d3-47e4-f6be-89663907b7ff"
      },
      "execution_count": 31,
      "outputs": [
        {
          "output_type": "execute_result",
          "data": {
            "text/plain": [
              "3304800000"
            ]
          },
          "metadata": {},
          "execution_count": 31
        }
      ]
    },
    {
      "cell_type": "code",
      "source": [
        "# raiz sexta da variável prod, utilizando a propriedade da potenciação que retorna a raiz desejada\n",
        "# utilizei essa propriedade devido eu não ter achado uma função na documentação que retornasse a raiz enésima desejada\n",
        "n_root = np.power(prod, 1/len(data))\n",
        "print(\"Média Geometrica = \", n_root)"
      ],
      "metadata": {
        "colab": {
          "base_uri": "https://localhost:8080/"
        },
        "id": "EbFbDdqv20Ts",
        "outputId": "81a790cc-802f-462e-f4f8-add1b1a6b2c2"
      },
      "execution_count": 32,
      "outputs": [
        {
          "output_type": "stream",
          "name": "stdout",
          "text": [
            "Média Geometrica =  38.594391410766434\n"
          ]
        }
      ]
    }
  ]
}